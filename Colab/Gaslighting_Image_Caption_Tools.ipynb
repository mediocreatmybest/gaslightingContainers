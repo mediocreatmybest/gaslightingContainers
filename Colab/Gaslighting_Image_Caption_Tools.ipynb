{
  "nbformat": 4,
  "nbformat_minor": 0,
  "metadata": {
    "colab": {
      "provenance": [],
      "collapsed_sections": [
        "hXWX2V7rAAl2",
        "JGDeDnG5ATLG",
        "axVHQO1PD0uo",
        "jTZHwJUDEC_7",
        "q-vPbjAGSRU5",
        "BYWojDyLbgeV"
      ]
    },
    "kernelspec": {
      "name": "python3",
      "display_name": "Python 3"
    },
    "language_info": {
      "name": "python"
    },
    "gpuClass": "standard"
  },
  "cells": [
    {
      "cell_type": "markdown",
      "source": [
        "```\n",
        "   ____                 _   _           _       _     _                 \n",
        "  / ___|   __ _   ___  | | (_)   __ _  | |__   | |_  (_)  _ __     __ _ \n",
        " | |  _   / _` | / __| | | | |  / _` | | '_ \\  | __| | | | '_ \\   / _` |\n",
        " | |_| | | (_| | \\__ \\ | | | | | (_| | | | | | | |_  | | | | | | | (_| |\n",
        "  \\____|  \\__,_| |___/ |_| |_|  \\__, | |_| |_|  \\__| |_| |_| |_|  \\__, |\n",
        "                                |___/                             |___/ \n",
        "\n",
        "```"
      ],
      "metadata": {
        "id": "A7Aiz2tp8pTo"
      }
    },
    {
      "cell_type": "markdown",
      "source": [
        "## Google Drive"
      ],
      "metadata": {
        "id": "hXWX2V7rAAl2"
      }
    },
    {
      "cell_type": "code",
      "execution_count": null,
      "metadata": {
        "id": "Y9EBc437WDOs"
      },
      "outputs": [],
      "source": [
        "from google.colab import drive\n",
        "drive.mount('/content/gdrive')\n",
        "# Modify this line if you want to change storage location, $gdrive is the root variable\n",
        "gdrive = '/content/gdrive/MyDrive'"
      ]
    },
    {
      "cell_type": "markdown",
      "source": [
        "## Tool Installs and Updates"
      ],
      "metadata": {
        "id": "JGDeDnG5ATLG"
      }
    },
    {
      "cell_type": "markdown",
      "source": [
        "Install some tools from a few git projects."
      ],
      "metadata": {
        "id": "l4YQTn7Q_gwH"
      }
    },
    {
      "cell_type": "code",
      "execution_count": null,
      "metadata": {
        "id": "87V4_2PB7rat"
      },
      "outputs": [],
      "source": [
        "import os\n",
        "%pip install gallery-dl\n",
        "\n",
        "# checking if the directory exists\n",
        "%cd $gdrive\n",
        "if not os.path.exists(\"sd\"):\n",
        "  os.makedirs(\"$gdrive/sd\")\n",
        "\n",
        "%cd $gdrive/sd\n",
        "if not os.path.exists(\"tools\"):\n",
        "  os.makedirs(\"$gdrive/sd/tools\")\n",
        "\n",
        "# Gaslighting caption tools\n",
        "%cd $gdrive/sd/tools\n",
        "if not os.path.exists(\"gaslighting\"):\n",
        "  print('folder doesn\\'t exist! making running git clone next...')\n",
        "  !git clone https://github.com/mediocreatmybest/gaslightingeveryone gaslighting\n",
        "else: \n",
        "  print('Gaslighting exists.')\n",
        "# Clip Interrogator\n",
        "if not os.path.exists(\"clip-interrogator\"):\n",
        "  print('folder doesn\\'t exist! making running git clone next...')\n",
        "  !git clone https://github.com/pharmapsychotic/clip-interrogator clip-interrogator\n",
        "else: \n",
        "  print('Clip Interrogator exists.')\n",
        "# Every Dream\n",
        "if not os.path.exists(\"EveryDream\"):\n",
        "  print('folder doesn\\'t exist! making running git clone next...')\n",
        "  !git clone https://github.com/victorchall/EveryDream EveryDream\n",
        "else: \n",
        "  print('EveryDream exists.')\n"
      ]
    },
    {
      "cell_type": "code",
      "source": [
        "import os\n",
        "import subprocess\n",
        "\n",
        "#@markdown # Update all git repositories for tools folder\n",
        "#@markdown Update git repositories / reset and discard changes / etc.\n",
        "\n",
        "update_all = True #@param {type:\"boolean\"}\n",
        "#@markdown  - Update every git repository within the tools folder\n",
        "\n",
        "if update_all is True:\n",
        "    %cd $gdrive/sd/tools\n",
        "    !find $pwd -mindepth 1 -maxdepth 1 -type d -exec git --git-dir={}/.git --work-tree=$PWD/{} pull \\;"
      ],
      "metadata": {
        "id": "-5x3M-x7EF9N"
      },
      "execution_count": null,
      "outputs": []
    },
    {
      "cell_type": "markdown",
      "source": [
        "## Gallery-DL / Download images"
      ],
      "metadata": {
        "id": "axVHQO1PD0uo"
      }
    },
    {
      "cell_type": "markdown",
      "source": [
        "### Setup simple image folder"
      ],
      "metadata": {
        "id": "jTZHwJUDEC_7"
      }
    },
    {
      "cell_type": "code",
      "source": [
        "# checking if the directory exists\n",
        "%cd $gdrive/sd/tools\n",
        "if not os.path.exists(\"datasets\"):\n",
        "  os.makedirs(\"datasets\")\n",
        "%cd $gdrive/sd/tools/datasets\n",
        "# By default Galler-DL saves into a sub directory called gallery-dl then by URL/website"
      ],
      "metadata": {
        "id": "7zvzQMb_G-Nq"
      },
      "execution_count": null,
      "outputs": []
    },
    {
      "cell_type": "code",
      "source": [
        "#@title Gallery-DL\n",
        "#@markdown Set your preferences, the option download-archive should keep a record of previously downloaded images  \n",
        "\n",
        "#@markdown If you are using a text file saved in google drive, use the side file menu to copy path\n",
        "URL_OR_TXT = '/content/gdrive/MyDrive/sd/tools/datasets/example.txt'  #@param {type: \"string\"}\n",
        "arguments = '--write-metadata --sleep 1-2 --download-archive gallerydb.sql3'  #@param {type: \"string\"}\n",
        "use_range = \"no\"  #@param ['yes', 'no']\n",
        "use_textfile = \"yes\"  #@param ['yes', 'no']\n",
        "range_start = 1  #@param {type: \"slider\", min: 1, max: 200}\n",
        "range_stop = 10  #@param {type: \"slider\", min: 2, max: 200}\n",
        "\n",
        "#@markdown ---"
      ],
      "metadata": {
        "id": "DRhagc5gaw-Z",
        "cellView": "form"
      },
      "execution_count": null,
      "outputs": []
    },
    {
      "cell_type": "code",
      "source": [
        "#@title Press Play on Tape (download)\n",
        "%cd $gdrive/sd/tools/datasets\n",
        "if use_range == 'yes':\n",
        "  if use_textfile =='yes':\n",
        "    !gallery-dl $arguments --range $range_start-$range_stop -i $URL_OR_TXT\n",
        "  else:\n",
        "    !gallery-dl $arguments --range $range_start-$range_stop $URL_OR_TXT\n",
        "\n",
        "if use_range == 'no':\n",
        "  if use_textfile =='yes':\n",
        "    !gallery-dl $arguments -i $URL_OR_TXT\n",
        "  else:\n",
        "    !gallery-dl $arguments $URL_OR_TXT\n"
      ],
      "metadata": {
        "id": "pqeXh76eeErb",
        "cellView": "form"
      },
      "execution_count": null,
      "outputs": []
    },
    {
      "cell_type": "code",
      "source": [
        "%cd /content/gdrive/MyDrive/sd/tools/datasets/gallery-dl\n",
        "!find $PWD -name *.gif -delete"
      ],
      "metadata": {
        "id": "53jd5XidSUnm"
      },
      "execution_count": null,
      "outputs": []
    },
    {
      "cell_type": "markdown",
      "source": [
        "## Create or modify captions"
      ],
      "metadata": {
        "id": "q-vPbjAGSRU5"
      }
    },
    {
      "cell_type": "code",
      "source": [
        "from os.path import exists\n",
        "\n",
        "#@title Gaslighting - Create or Modify Captions.  \n",
        "\n",
        "#@markdown Select the root folder you wish to caption\n",
        "image_dir = '/content/gdrive/MyDrive/sd/tools/datasets/gallery-dl'  #@param {type: \"string\"}\n",
        "disable_title = False #@param {type:\"boolean\"}\n",
        "#@markdown  - Disables title from json\n",
        "disable_desc = True #@param {type:\"boolean\"}\n",
        "#@markdown  - Disables description from json\n",
        "disable_tags = False #@param {type:\"boolean\"}\n",
        "#@markdown  - Disables tags from json\n",
        "remove_hash = True #@param {type:\"boolean\"}\n",
        "#@markdown  - Removes hash symbol from tags in json\n",
        "disable_exif = False #@param {type:\"boolean\"}\n",
        "#@markdown  - Disables EXIF Camera data from json\n",
        "append = False #@param {type:\"boolean\"}\n",
        "#@markdown  - Appends written file only, does not overwrite\n",
        "debug = False #@param {type:\"boolean\"}\n",
        "#@markdown  - Disables Saving, prints some information out instead\n",
        "del_appended_csv = True #@param {type:\"boolean\"}\n",
        "#@markdown  - Deletes the appeneded CSV, otherwise re-running the command will keep appending to this file\n",
        "\n",
        "#@markdown ---\n",
        "\n",
        "cmd_arg_str = ''\n",
        "cmd_arg_str = f'json2txt.py --imagedir {image_dir} '\n",
        "\n",
        "if disable_title is True:\n",
        "  cmd_arg_str = cmd_arg_str + '--disable-title '\n",
        "if disable_desc is True:\n",
        "  cmd_arg_str = cmd_arg_str + '--disable-desc '\n",
        "if disable_tags is True:\n",
        "  cmd_arg_str = cmd_arg_str + '--disable-tags '\n",
        "if remove_hash is True:\n",
        "  cmd_arg_str = cmd_arg_str + '--remove-hash '\n",
        "if disable_exif is True:\n",
        "  cmd_arg_str = cmd_arg_str + '--disable-exif '\n",
        "if append is True:\n",
        "  cmd_arg_str = cmd_arg_str + '--append '\n",
        "if debug is True:\n",
        "  cmd_arg_str = cmd_arg_str + '--debug '\n",
        "if del_appended_csv is True:\n",
        "  if exists('{image_dir}/appended_captions.txt') is True:\n",
        "    print('appended_captions.txt deleted')\n",
        "    !rm {image_dir}/appended_captions.txt\n",
        "\n",
        "# Run Script\n",
        "\n",
        "%cd $gdrive/sd/tools/gaslighting/tools\n",
        "!python {cmd_arg_str}\n",
        "\n"
      ],
      "metadata": {
        "id": "FvrpHlsif4mw",
        "cellView": "form"
      },
      "execution_count": null,
      "outputs": []
    },
    {
      "cell_type": "code",
      "execution_count": null,
      "metadata": {
        "id": "aP9FjmWxtLKJ",
        "cellView": "form"
      },
      "outputs": [],
      "source": [
        "#@markdown ### Clip Interrogator\n",
        "#@markdown Modified from the original scripts and examples at: https://github.com/pharmapsychotic/clip-interrogator  \n",
        "\n",
        "#@markdown **Check GPU**\n",
        "!nvidia-smi -L"
      ]
    },
    {
      "cell_type": "code",
      "execution_count": null,
      "metadata": {
        "cellView": "form",
        "id": "xpPKQR40qvz2"
      },
      "outputs": [],
      "source": [
        "#@title Setup\n",
        "#@markdown Select ViT-H-14/laion2b_s32b_b79k as the model to use with Stable Diffusion 2.x  \n",
        "\n",
        "#@markdown Select Vit-L-14/openai as the model to use with Stable Diffusion 1.x  \n",
        "\n",
        "import os, subprocess\n",
        "\n",
        "def setup():\n",
        "    install_cmds = [\n",
        "        ['pip', 'install', 'gradio'],\n",
        "        ['pip', 'install', 'open_clip_torch'],\n",
        "        ['pip', 'install', 'clip-interrogator'],\n",
        "        ['pip', 'install', 'git+https://github.com/pharmapsychotic/BLIP.git'],\n",
        "    ]\n",
        "    for cmd in install_cmds:\n",
        "        print(subprocess.run(cmd, stdout=subprocess.PIPE).stdout.decode('utf-8'))\n",
        "\n",
        "setup()\n",
        "\n",
        "\n",
        "clip_model_name = 'ViT-H-14/laion2b_s32b_b79k' #@param [\"ViT-H-14/laion2b_s32b_b79k\", \"ViT-L-14/openai\"]\n",
        "\n",
        "\n",
        "print(\"Download preprocessed cache files...\")\n",
        "CACHE_URLS = [\n",
        "    'https://huggingface.co/pharma/ci-preprocess/resolve/main/ViT-L-14_openai_artists.pkl',\n",
        "    'https://huggingface.co/pharma/ci-preprocess/resolve/main/ViT-L-14_openai_flavors.pkl',\n",
        "    'https://huggingface.co/pharma/ci-preprocess/resolve/main/ViT-L-14_openai_mediums.pkl',\n",
        "    'https://huggingface.co/pharma/ci-preprocess/resolve/main/ViT-L-14_openai_movements.pkl',\n",
        "    'https://huggingface.co/pharma/ci-preprocess/resolve/main/ViT-L-14_openai_trendings.pkl',\n",
        "] if clip_model_name == 'ViT-L-14/openai' else [\n",
        "    'https://huggingface.co/pharma/ci-preprocess/resolve/main/ViT-H-14_laion2b_s32b_b79k_artists.pkl',\n",
        "    'https://huggingface.co/pharma/ci-preprocess/resolve/main/ViT-H-14_laion2b_s32b_b79k_flavors.pkl',\n",
        "    'https://huggingface.co/pharma/ci-preprocess/resolve/main/ViT-H-14_laion2b_s32b_b79k_mediums.pkl',\n",
        "    'https://huggingface.co/pharma/ci-preprocess/resolve/main/ViT-H-14_laion2b_s32b_b79k_movements.pkl',\n",
        "    'https://huggingface.co/pharma/ci-preprocess/resolve/main/ViT-H-14_laion2b_s32b_b79k_trendings.pkl',\n",
        "]\n",
        "os.makedirs('cache', exist_ok=True)\n",
        "for url in CACHE_URLS:\n",
        "    print(subprocess.run(['wget', url, '-P', 'cache'], stdout=subprocess.PIPE).stdout.decode('utf-8'))\n",
        "\n",
        "\n",
        "import gradio as gr\n",
        "from clip_interrogator import Config, Interrogator\n",
        "\n",
        "config = Config()\n",
        "config.blip_num_beams = 64\n",
        "config.blip_offload = False\n",
        "config.clip_model_name = clip_model_name\n",
        "ci = Interrogator(config)\n",
        "\n",
        "def inference(image, mode, best_max_flavors=32):\n",
        "    ci.config.chunk_size = 2048 if ci.config.clip_model_name == \"ViT-L-14/openai\" else 1024\n",
        "    ci.config.flavor_intermediate_count = 2048 if ci.config.clip_model_name == \"ViT-L-14/openai\" else 1024\n",
        "    image = image.convert('RGB')\n",
        "    if mode == 'best':\n",
        "        return ci.interrogate(image, max_flavors=int(best_max_flavors))\n",
        "    elif mode == 'classic':\n",
        "        return ci.interrogate_classic(image)\n",
        "    else:\n",
        "        return ci.interrogate_fast(image)\n"
      ]
    },
    {
      "cell_type": "code",
      "execution_count": null,
      "metadata": {
        "cellView": "form",
        "id": "Pf6qkFG6MPRj"
      },
      "outputs": [],
      "source": [
        "#@title Image to prompt! 🖼️ -> 📝\n",
        "   \n",
        "inputs = [\n",
        "    gr.inputs.Image(type='pil'),\n",
        "    gr.Radio(['best', 'fast'], label='', value='best'),\n",
        "    gr.Number(value=16, label='best mode max flavors'),\n",
        "]\n",
        "outputs = [\n",
        "    gr.outputs.Textbox(label=\"Output\"),\n",
        "]\n",
        "\n",
        "io = gr.Interface(\n",
        "    inference, \n",
        "    inputs, \n",
        "    outputs, \n",
        "    allow_flagging=False,\n",
        ")\n",
        "io.launch(debug=False)\n"
      ]
    },
    {
      "cell_type": "code",
      "execution_count": null,
      "metadata": {
        "id": "OGmvkzITN4Hz",
        "cellView": "form"
      },
      "outputs": [],
      "source": [
        "#@title Batch process a folder of images 📁 -> 📝\n",
        "\n",
        "#@markdown Select the folder path to the root of your images, this script is not recursive and will not search subfolders\n",
        "\n",
        "#@markdown Output options are: _'caption', 'csv', 'rename'_  \n",
        "\n",
        "#@markdown _Caption_ will create a txt file for every image, _CSV_ will create a summary in a CSV file, _Rename_ will rename each file.\n",
        "import csv\n",
        "import os\n",
        "from IPython.display import clear_output, display\n",
        "from PIL import Image\n",
        "from pathlib import Path\n",
        "from tqdm import tqdm\n",
        "\n",
        "folder_path = \"/content/gdrive/MyDrive/sd/tools/datasets/example\" #@param {type:\"string\"}\n",
        "prompt_mode = 'best' #@param [\"best\",\"fast\", \"classic\"]\n",
        "output_mode = 'captions' #@param [\"captions\",\"csv\",\"rename\"]\n",
        "max_filename_len = 128 #@param {type:\"integer\"}\n",
        "best_max_flavors = 2 #@param {type:\"integer\"}\n",
        "\n",
        "\n",
        "def sanitize_for_filename(prompt: str, max_len: int) -> str:\n",
        "    name = \"\".join(c for c in prompt if (c.isalnum() or c in \",._-! \"))\n",
        "    name = name.strip()[:(max_len-4)] # extra space for extension\n",
        "    return name\n",
        "\n",
        "ci.config.quiet = True\n",
        "\n",
        "files = [f for f in os.listdir(folder_path) if f.endswith('.jpg') or f.endswith('.png')] if os.path.exists(folder_path) else []\n",
        "prompts = []\n",
        "for idx, file in enumerate(tqdm(files, desc='Generating prompts')):\n",
        "    if idx > 0 and idx % 100 == 0:\n",
        "        clear_output(wait=True)\n",
        "\n",
        "    image = Image.open(os.path.join(folder_path, file)).convert('RGB')\n",
        "    prompt = inference(image, prompt_mode, best_max_flavors=best_max_flavors)\n",
        "    prompts.append(prompt)\n",
        "\n",
        "    print(prompt)\n",
        "    thumb = image.copy()\n",
        "    thumb.thumbnail([256, 256])\n",
        "    display(thumb)\n",
        "\n",
        "    if output_mode == 'rename':\n",
        "        name = sanitize_for_filename(prompt, max_filename_len)\n",
        "        ext = os.path.splitext(file)[1]\n",
        "        filename = name + ext\n",
        "        idx = 1\n",
        "        while os.path.exists(os.path.join(folder_path, filename)):\n",
        "            print(f'File {filename} already exists, trying {idx+1}...')\n",
        "            filename = f\"{name}_{idx}{ext}\"\n",
        "            idx += 1\n",
        "        os.rename(os.path.join(folder_path, file), os.path.join(folder_path, filename))\n",
        "\n",
        "if len(prompts):\n",
        "    if output_mode == 'csv':\n",
        "        csv_path = os.path.join(folder_path, 'desc.csv')\n",
        "        with open(csv_path, 'w', encoding='utf-8', newline='') as f:\n",
        "            w = csv.writer(f, quoting=csv.QUOTE_MINIMAL)\n",
        "            w.writerow(['image', 'prompt'])\n",
        "            for file, prompt in zip(files, prompts):\n",
        "                w.writerow([file, prompt])\n",
        "\n",
        "        print(f\"\\n\\n\\n\\nGenerated {len(prompts)} prompts and saved to {csv_path}, enjoy!\")\n",
        "    elif output_mode == 'captions':\n",
        "      for file, prompt in zip(files, prompts):\n",
        "        file_name = os.path.splitext(file)[0] + '.txt'\n",
        "        file_path = os.path.join(folder_path, file_name)\n",
        "        with open(file_path, 'w', encoding='utf-8') as f:\n",
        "          f.write(prompt)\n",
        "\n",
        "        print(f\"\\n\\n\\n\\nGenerated {len(prompts)} prompts and saved to {folder_path}, enjoy!\")\n",
        "\n",
        "    else:\n",
        "        print(f\"\\n\\n\\n\\nGenerated {len(prompts)} prompts and renamed your files, enjoy!\")\n",
        "else:\n",
        "    print(f\"Sorry, I couldn't find any images in {folder_path}\")\n"
      ]
    },
    {
      "cell_type": "markdown",
      "source": [
        "## Image resizing"
      ],
      "metadata": {
        "id": "BYWojDyLbgeV"
      }
    },
    {
      "cell_type": "code",
      "source": [
        "#@title Gaslighting - Image Resizing\n",
        "#@markdown Set your preferences, the size will apply to the shortest side, maintaining aspect ratio   \n",
        "\n",
        "#@markdown Select the input directory and an output directory, files will only be copied\n",
        "input_dir = '/content/gdrive/MyDrive/sd/tools/datasets/gallery-dl'  #@param {type: \"string\"}\n",
        "output_dir = '/content/gdrive/MyDrive/sd/tools/datasets/gallery-dl_resize'  #@param {type: \"string\"}\n",
        "size = 576  #@param {type: \"number\"}\n",
        "copy_format = True #@param {type:\"boolean\"}\n",
        "#@markdown  - Keep current format of images e.g. png\n",
        "format = \"png\"  #@param ['png', 'jpg', 'jpeg', 'webp', 'bmp']\n",
        "#@markdown  - Or select your own preference of image format\n",
        "\n",
        "\n",
        "#@markdown ---\n",
        "\n",
        "\n",
        "cmd_arg_str = ''\n",
        "\n",
        "cmd_arg_str = f'images2resize.py --input-dir {input_dir} --output-dir {output_dir} --size {size} '\n",
        "\n",
        "if copy_format is True:\n",
        "  cmd_arg_str = cmd_arg_str + '--copy-format'\n",
        "else: \n",
        "  cmd_arg_str = cmd_arg_str + '--format {format}'\n",
        "\n",
        "%cd $gdrive/sd/tools/gaslighting/tools\n",
        "!python {cmd_arg_str}\n"
      ],
      "metadata": {
        "id": "X3geOrttb0Hl",
        "cellView": "form"
      },
      "execution_count": null,
      "outputs": []
    }
  ]
}